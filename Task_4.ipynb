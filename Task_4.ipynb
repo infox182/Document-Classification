{
 "cells": [
  {
   "cell_type": "markdown",
   "metadata": {},
   "source": [
    "# Линейная регрессия"
   ]
  },
  {
   "cell_type": "markdown",
   "metadata": {},
   "source": [
    "Данные содержатся в файле `data/lin_reg.txt`. Прочитать их можно следующим так:"
   ]
  },
  {
   "cell_type": "code",
   "execution_count": 1,
   "metadata": {},
   "outputs": [],
   "source": [
    "import numpy as np\n",
    "D = np.loadtxt('../data/lin_reg.txt', delimiter=',')\n",
    "X = D[:, :-1]\n",
    "Y = D[:, -1]"
   ]
  },
  {
   "cell_type": "code",
   "execution_count": 2,
   "metadata": {},
   "outputs": [],
   "source": [
    "import matplotlib.pyplot as plt"
   ]
  },
  {
   "cell_type": "markdown",
   "metadata": {},
   "source": [
    "При выполнении заданий **нельзя** пользоваться `scikit-learn` и т.п., только `NumPy`/`JAX`/`TF`/`PyTorch` и `matplotlib`/`seaborn`/`plotly`/etc.\n",
    "\n",
    "1. Нарисуйте график среднеквадратичной ошибки в зависимости от параметра регуляризации $\\alpha$, используя полные данные для обучения и для тестирования. \n",
    "2. Подготовьте исходные данные для 5 fold CV.\n",
    "3. С помощью CV найдите оптимальное значение $\\alpha$ на какой-нибудь сетке значений.\n",
    "4. Постройте валидационную кривую. \n",
    "5. Постройте кривую обучения."
   ]
  },
  {
   "cell_type": "code",
   "execution_count": 3,
   "metadata": {},
   "outputs": [],
   "source": [
    "X = np.hstack((X,np.ones((X.shape[0],1))))\n",
    "y = np.array(Y).reshape(-1,1)"
   ]
  },
  {
   "cell_type": "code",
   "execution_count": 72,
   "metadata": {},
   "outputs": [],
   "source": [
    "class LinearRegression:\n",
    "    def __init__(self):\n",
    "\n",
    "        self.W = None\n",
    "    def init_weights(self, input_size, output_size):\n",
    "\n",
    "        self.W = np.random.normal(0, 0.01, (input_size, output_size))\n",
    "\n",
    "    def predict(self, X):\n",
    "\n",
    "        return  X @ self.W\n",
    "    \n",
    "    def evaluate (self, X, y, alpha):\n",
    "        n = len(y)\n",
    "        preds = self.predict(X)\n",
    "        return np.sum((preds-y)**2)/n + (float(sum(self.W**2)/n))*alpha #MSE\n",
    "    \n",
    "    #с градиентным спуском\n",
    "    def fit(self, X, y, X_test=None,y_test=None,num_epochs=100, lr=0.001, alpha = 0.1):\n",
    "        n = len(y)     \n",
    "        loss_f = lambda preds, y, alpha: np.sum((preds-y)**2)/n + (float(sum(self.W**2)/n))*alpha #MSE+рег\n",
    "        self.init_weights(X.shape[1], y.shape[1])\n",
    "        loss = []\n",
    "        if type(X_test) is np.ndarray and type(y_test) is np.ndarray:\n",
    "            val_loss = []\n",
    "        for epoch in range(num_epochs):\n",
    "            preds = self.predict(X)\n",
    "            W_grad = 2*X.T@(preds - y)/n + alpha*self.W\n",
    "            self.W -= lr*W_grad\n",
    "            error = loss_f(preds, y, alpha)\n",
    "            loss.append(error)\n",
    "            if type(X_test) is np.ndarray and type(y_test) is np.ndarray:\n",
    "                val_loss.append(self.evaluate(X_test,y_test,alpha))\n",
    "        if type(X_test) is not np.ndarray or type(y_test) is not np.ndarray: \n",
    "            return loss\n",
    "        else:\n",
    "            return loss, val_loss\n",
    "    \n",
    "\n",
    "    #явный метод\n",
    "    def solve(self, X, y, alpha):\n",
    "        n = len(y)\n",
    "        loss_f = lambda preds, y, alpha: np.sum((preds-y)**2)/n + (float(sum(self.W**2)/n))*alpha\n",
    "        W = np.linalg.inv(X.T @ X + alpha * np.identity(5)) @ X.T @ y\n",
    "        preds = X @ W      \n",
    "        error = loss_f(preds, y, alpha)\n",
    "        return error\n"
   ]
  },
  {
   "cell_type": "code",
   "execution_count": 73,
   "metadata": {},
   "outputs": [],
   "source": [
    "lin_regressor = LinearRegression()"
   ]
  },
  {
   "cell_type": "code",
   "execution_count": 74,
   "metadata": {},
   "outputs": [],
   "source": [
    "alpha_grid = np.arange(0.001,5,0.01)\n",
    "list_epoch_loss = []\n",
    "for alpha in alpha_grid:\n",
    "    list_epoch_loss.append(lin_regressor.fit(X,y,alpha=alpha)[-1])"
   ]
  },
  {
   "cell_type": "code",
   "execution_count": 75,
   "metadata": {},
   "outputs": [
    {
     "data": {
      "text/plain": [
       "[<matplotlib.lines.Line2D at 0x2153f66b9c8>]"
      ]
     },
     "execution_count": 75,
     "metadata": {},
     "output_type": "execute_result"
    },
    {
     "data": {
      "image/png": "[encoded data removed]",
      "text/plain": [
       "<Figure size 432x288 with 1 Axes>"
      ]
     },
     "metadata": {
      "needs_background": "light"
     },
     "output_type": "display_data"
    }
   ],
   "source": [
    "plt.plot(alpha_grid,list_epoch_loss)"
   ]
  },
  {
   "cell_type": "code",
   "execution_count": 78,
   "metadata": {},
   "outputs": [],
   "source": [
    "from numpy.random import permutation\n",
    "dataset = np.hstack((X,y))\n",
    "dataset = permutation(dataset)\n",
    "X_new = dataset[:,:-1]\n",
    "y_new = dataset[:,-1].reshape(-1,1)"
   ]
  },
  {
   "cell_type": "code",
   "execution_count": 79,
   "metadata": {},
   "outputs": [],
   "source": [
    "k = 5\n",
    "#функция для генерации тестовой и обучающей выборки\n",
    "def K_fold_cv(k,X,y):\n",
    "    n = len(y)\n",
    "    for i in range(k):\n",
    "        yield X[n*i//k:n*(i+1)//k], y[n*i//k:n*(i+1)//k], \\\n",
    "                np.delete(X,np.s_[n*i//k:n*(i+1)//k],axis = 0), \\\n",
    "                np.delete(y,np.s_[n*i//k:n*(i+1)//k],axis = 0)"
   ]
  },
  {
   "cell_type": "code",
   "execution_count": 80,
   "metadata": {},
   "outputs": [],
   "source": [
    "alphas_loss = []\n",
    "new_alpha_grid = np.arange(0.001,5,0.1)\n",
    "for alpha in new_alpha_grid:\n",
    "    generator = K_fold_cv(k,X_new,y_new)\n",
    "    cv_loss = []\n",
    "    for i in range (k):\n",
    "        X_test, y_test, X_train, y_train = next(generator)\n",
    "        lin_regressor.fit(X_train,y_train, alpha=alpha)\n",
    "        cv_loss.append(lin_regressor.evaluate(X_test,y_test,alpha))\n",
    "    alphas_loss.append(np.mean(cv_loss))"
   ]
  },
  {
   "cell_type": "code",
   "execution_count": 82,
   "metadata": {},
   "outputs": [
    {
     "name": "stdout",
     "output_type": "stream",
     "text": [
      "98.50672477685586\n",
      "alpha =  0.001\n"
     ]
    }
   ],
   "source": [
    "print(np.min(alphas_loss))\n",
    "optim_alpha = alpha_grid[np.argmin(alphas_loss)]\n",
    "print ('alpha = ',optim_alpha)"
   ]
  },
  {
   "cell_type": "code",
   "execution_count": 83,
   "metadata": {},
   "outputs": [],
   "source": [
    "X_test, y_test, X_train, y_train = next(K_fold_cv(k,X_new,y_new))\n",
    "train_loss, val_loss = lin_regressor.fit(X_train,y_train,X_test=X_test,y_test=y_test,alpha=optim_alpha)"
   ]
  },
  {
   "cell_type": "code",
   "execution_count": 84,
   "metadata": {},
   "outputs": [
    {
     "data": {
      "image/png": "[encoded data removed]",
      "text/plain": [
       "<Figure size 432x288 with 1 Axes>"
      ]
     },
     "metadata": {
      "needs_background": "light"
     },
     "output_type": "display_data"
    }
   ],
   "source": [
    "plt.plot(train_loss,label='train')\n",
    "plt.plot(val_loss,label = 'test')\n",
    "\n",
    "plt.xlabel('epoch')\n",
    "plt.ylabel('error')\n",
    "\n",
    "plt.legend()\n",
    "plt.show()"
   ]
  }
 ],
 "metadata": {
  "kernelspec": {
   "display_name": "Python 3",
   "language": "python",
   "name": "python3"
  },
  "language_info": {
   "codemirror_mode": {
    "name": "ipython",
    "version": 3
   },
   "file_extension": ".py",
   "mimetype": "text/x-python",
   "name": "python",
   "nbconvert_exporter": "python",
   "pygments_lexer": "ipython3",
   "version": "3.7.9"
  }
 },
 "nbformat": 4,
 "nbformat_minor": 4
}
