{
 "cells": [
  {
   "cell_type": "markdown",
   "metadata": {},
   "source": [
    "# Задание 1\n",
    "\n",
    "[Свертка списка](https://ru.wikipedia.org/wiki/%D0%A1%D0%B2%D1%91%D1%80%D1%82%D0%BA%D0%B0_%D1%81%D0%BF%D0%B8%D1%81%D0%BA%D0%B0) -  это обобщенная операция над списком, c помощью которой можно преобразовать список в единое значение. Например, рассмотрим реализации свертки слева и свертки справа (левоассоциативную свертку и правоассоциативную свертку):"
   ]
  },
  {
   "cell_type": "code",
   "execution_count": 1,
   "metadata": {},
   "outputs": [],
   "source": [
    "def foldl(f, x0, lst):\n",
    "    if not lst:\n",
    "        return x0\n",
    "    return foldl(f, f(x0, lst[0]), lst[1:])\n",
    "\n",
    "def foldr(f, x0, lst):\n",
    "    if not lst:\n",
    "        return x0\n",
    "    return f(lst[0], foldr(f, x0, lst[1:]))"
   ]
  },
  {
   "cell_type": "code",
   "execution_count": 2,
   "metadata": {},
   "outputs": [
    {
     "data": {
      "text/plain": [
       "6"
      ]
     },
     "execution_count": 2,
     "metadata": {},
     "output_type": "execute_result"
    }
   ],
   "source": [
    "#сумма\n",
    "foldl(lambda x, y: x + y, 0, [1, 2, 3])"
   ]
  },
  {
   "cell_type": "code",
   "execution_count": 3,
   "metadata": {},
   "outputs": [
    {
     "data": {
      "text/plain": [
       "'123'"
      ]
     },
     "execution_count": 3,
     "metadata": {},
     "output_type": "execute_result"
    }
   ],
   "source": [
    "#конкатенация\n",
    "foldl(lambda x, y: '{}{}'.format(x, y), '', [1, 2, 3])"
   ]
  },
  {
   "cell_type": "code",
   "execution_count": 4,
   "metadata": {},
   "outputs": [
    {
     "data": {
      "text/plain": [
       "'123'"
      ]
     },
     "execution_count": 4,
     "metadata": {},
     "output_type": "execute_result"
    }
   ],
   "source": [
    "foldr(lambda x, y: '{}{}'.format(x, y), '', [1, 2, 3])"
   ]
  },
  {
   "cell_type": "code",
   "execution_count": 5,
   "metadata": {},
   "outputs": [
    {
     "data": {
      "text/plain": [
       "(0.16666666666666666, 1.5)"
      ]
     },
     "execution_count": 5,
     "metadata": {},
     "output_type": "execute_result"
    }
   ],
   "source": [
    "f = lambda x, y: x / y\n",
    "foldl(f, 1, [1, 2, 3]), \\\n",
    "foldr(f, 1, [1, 2, 3])"
   ]
  },
  {
   "cell_type": "markdown",
   "metadata": {},
   "source": [
    "Задача: реализовать foldl через foldr и наоборот. Вместо многоточий нужно вставить выражения, которые бы привели к нужному результату. Модифицировать сам список нельзя. "
   ]
  },
  {
   "cell_type": "code",
   "execution_count": 6,
   "metadata": {},
   "outputs": [],
   "source": [
    "def foldl2(f, x0, lst):\n",
    "    return foldr(lambda g, t: lambda x: t(f(x,g)), lambda x : x, lst)(x0)"
   ]
  },
  {
   "cell_type": "code",
   "execution_count": 7,
   "metadata": {},
   "outputs": [],
   "source": [
    "def foldr2(f, x0, lst):\n",
    "    return foldl(lambda t, g: lambda x: t(f(g,x)), lambda x : x, lst)(x0)"
   ]
  },
  {
   "cell_type": "code",
   "execution_count": 8,
   "metadata": {},
   "outputs": [
    {
     "data": {
      "text/plain": [
       "(0.16666666666666666, 1.5)"
      ]
     },
     "execution_count": 8,
     "metadata": {},
     "output_type": "execute_result"
    }
   ],
   "source": [
    "foldl2(f, 1, [1, 2, 3]), foldr2(f, 1, [1, 2, 3])"
   ]
  },
  {
   "cell_type": "markdown",
   "metadata": {},
   "source": [
    "# Задание 2\n",
    "\n",
    "нужно написать функцию, которая принимает две строки и проверяет, входит ли хотя бы одна перестановка второй строки в первую. Например:\n",
    "\n",
    "> a = 'abcrotm'\n",
    "> \n",
    "> b = 'tro'\n",
    "\n",
    "функция def check_inv(a, b) вернет True, так как 'rot' содержится в 'abcrotm'. Нужно подумать как можно более оптимальный алгоритм и оценить его сложность. "
   ]
  },
  {
   "cell_type": "code",
   "execution_count": 10,
   "metadata": {},
   "outputs": [],
   "source": [
    "def check_inv(a, b):\n",
    "    len_a = len(a)\n",
    "    len_b = len(b)\n",
    "    if len_a < len_b or len_a == 0 or len_b == 0:\n",
    "        return False\n",
    "    \n",
    "    def add_let_to_dict(dictionary,let):\n",
    "        if let in dictionary.keys():\n",
    "            dictionary[let] += 1\n",
    "        else:\n",
    "            dictionary[let] = 1\n",
    "    \n",
    "    def counter(string):\n",
    "        dictionary = {}\n",
    "        for let in string:\n",
    "            add_let_to_dict(dictionary,let)\n",
    "        return dictionary\n",
    "    \n",
    "    def remove_let_from_dict(dictionary,let):\n",
    "        if dictionary[let] == 1:\n",
    "            del(dictionary[let])\n",
    "        else:\n",
    "            dictionary[let] -= 1\n",
    "   \n",
    "    dict_b = counter(b)\n",
    "    temp_a = a[:len_b]\n",
    "    temp_dict_a = counter(temp_a)\n",
    "    for i in range(len_b,len_a + 1):\n",
    "        if temp_dict_a == dict_b:\n",
    "            return True\n",
    "        elif i == len_a:\n",
    "            return False\n",
    "        remove_let_from_dict(temp_dict_a,a[i-len_b])\n",
    "        add_let_to_dict(temp_dict_a,a[i])"
   ]
  },
  {
   "cell_type": "code",
   "execution_count": 11,
   "metadata": {},
   "outputs": [
    {
     "data": {
      "text/plain": [
       "True"
      ]
     },
     "execution_count": 11,
     "metadata": {},
     "output_type": "execute_result"
    }
   ],
   "source": [
    "a = 'abcrotmoqopaldnmoooqa'\n",
    "b = 'aoqoomn'\n",
    "check_inv(a, b) "
   ]
  },
  {
   "cell_type": "code",
   "execution_count": 12,
   "metadata": {},
   "outputs": [
    {
     "data": {
      "text/plain": [
       "True"
      ]
     },
     "execution_count": 12,
     "metadata": {},
     "output_type": "execute_result"
    }
   ],
   "source": [
    "a = 'abcrotm'\n",
    "b = 'tro'\n",
    "check_inv(a, b) "
   ]
  },
  {
   "cell_type": "markdown",
   "metadata": {},
   "source": [
    "# Задание 3\n",
    "\n",
    "Реализовать бинарное дерево (класс Tree), в нём методы __repr__, __str__, __iter__ (итерация только по листьям)."
   ]
  },
  {
   "cell_type": "code",
   "execution_count": 13,
   "metadata": {},
   "outputs": [
    {
     "data": {
      "text/plain": [
       "True"
      ]
     },
     "execution_count": 13,
     "metadata": {},
     "output_type": "execute_result"
    }
   ],
   "source": [
    "class Tree:\n",
    "    def __init__(self, value=None, left=None, right=None):\n",
    "        self.left = left\n",
    "        self.right = right\n",
    "        self.value = value\n",
    "        \n",
    "    def __iter__(self):\n",
    "        if self.left == None and self.right == None:\n",
    "            yield self.value\n",
    "        if self.left != None:\n",
    "            if type(self.left) == int:\n",
    "                yield self.left\n",
    "            else:\n",
    "                for l in iter(self.left):\n",
    "                    yield l\n",
    "        if self.right != None:\n",
    "            if type(self.right) == int:\n",
    "                yield self.right\n",
    "            else:    \n",
    "                for l in iter(self.right):\n",
    "                    yield l\n",
    "        \n",
    "    def __str__(self):\n",
    "        return (f'{str(self.left)}/{self.value}\\\\{str(self.right)}')\n",
    "    \n",
    "    def __repr__(self):\n",
    "        return f'Tree({self.value},{repr(self.left)},{repr(self.right)})'\n",
    "    \n",
    "tree = Tree(0, Tree(1, Tree(3), Tree(4)),                             \n",
    "               Tree(2))\n",
    "\n",
    "list(tree) == [3, 4, 2]"
   ]
  },
  {
   "cell_type": "code",
   "execution_count": 14,
   "metadata": {},
   "outputs": [
    {
     "name": "stdout",
     "output_type": "stream",
     "text": [
      "3\n",
      "4\n",
      "2\n"
     ]
    }
   ],
   "source": [
    "for i in tree:\n",
    "    print(i)"
   ]
  },
  {
   "cell_type": "code",
   "execution_count": 15,
   "metadata": {},
   "outputs": [],
   "source": [
    "tree1 = Tree(0,1,2)\n",
    "tree2 = Tree(0, Tree(1, Tree(3,Tree(5),Tree(8)), Tree(4)),                             \n",
    "               Tree(2))"
   ]
  },
  {
   "cell_type": "code",
   "execution_count": 16,
   "metadata": {},
   "outputs": [
    {
     "data": {
      "text/plain": [
       "True"
      ]
     },
     "execution_count": 16,
     "metadata": {},
     "output_type": "execute_result"
    }
   ],
   "source": [
    "list(tree1) == [1,2]\n",
    "list(tree2) == [5,8,4,2]"
   ]
  },
  {
   "cell_type": "code",
   "execution_count": 17,
   "metadata": {},
   "outputs": [
    {
     "data": {
      "text/plain": [
       "'Tree(0,Tree(1,Tree(3,None,None),Tree(4,None,None)),Tree(2,None,None))'"
      ]
     },
     "execution_count": 17,
     "metadata": {},
     "output_type": "execute_result"
    }
   ],
   "source": [
    "repr(tree)"
   ]
  },
  {
   "cell_type": "markdown",
   "metadata": {},
   "source": [
    "# Задание 4\n",
    "\n",
    "Реализовать простейший калькулятор математических выражений:\n",
    "- только целые числа\n",
    "- **+**, **\\-**, **\\***, **\\**\n",
    "- скобки\n",
    "\n",
    "**Можно использовать регулярные выражения**"
   ]
  },
  {
   "cell_type": "code",
   "execution_count": 18,
   "metadata": {},
   "outputs": [
    {
     "name": "stdout",
     "output_type": "stream",
     "text": [
      "True\n"
     ]
    }
   ],
   "source": [
    "import re\n",
    "def calc(expr):\n",
    "    re_breaks = re.compile(r'\\([\\*\\+-/\\d]+\\)')\n",
    "    re_plus_min = re.compile(r'[\\d]+[\\+-][\\d]+')\n",
    "    re_mult_div = re.compile(r'[\\d]+[\\*/][\\d]+')\n",
    "    \n",
    "    def mult_div(string):\n",
    "        while True:\n",
    "            ex_obj = re_mult_div.search(string)\n",
    "            if ex_obj == None:\n",
    "                return string\n",
    "            ex = ex_obj.group()\n",
    "            start = ex_obj.span()[0]\n",
    "            stop = ex_obj.span()[1]\n",
    "\n",
    "            \n",
    "            numbers = re.split(r'[\\*/]',ex)\n",
    "            if '*' in ex:\n",
    "                result = int(int(numbers[0])*int(numbers[1]))\n",
    "            else:\n",
    "                result = int(int(numbers[0])/int(numbers[1]))\n",
    "                \n",
    "            string = string[0:start] + str(result) + string[stop:]\n",
    "        return string\n",
    "    \n",
    "    def plus_min(string):\n",
    "        while True:\n",
    "            ex_obj = re_plus_min.search(string)\n",
    "            if ex_obj == None:\n",
    "                return string\n",
    "            ex = ex_obj.group()\n",
    "            start = ex_obj.span()[0]\n",
    "            stop = ex_obj.span()[1]\n",
    "\n",
    "            numbers = re.split(r'[\\+-]',ex)\n",
    "            if '+' in ex:\n",
    "                result = int(int(numbers[0])+int(numbers[1]))\n",
    "            else:\n",
    "                result = int(int(numbers[0])-int(numbers[1]))\n",
    "                \n",
    "            string = string[0:start] + str(result) + string[stop:]\n",
    "        return string\n",
    "\n",
    "    expr = expr.replace(' ','')\n",
    "    while True:\n",
    "        ex_obj = re_breaks.search(expr)\n",
    "        if ex_obj == None:\n",
    "            return int(plus_min(mult_div(expr)))\n",
    "        ex = ex_obj.group()\n",
    "        start = ex_obj.span()[0]\n",
    "        stop = ex_obj.span()[1]\n",
    "        expr = expr[0:start] + plus_min(mult_div(ex[1:-1])) + expr[stop:]\n",
    "print(calc('2 * (15 - 3 * 4) - 2') == 4)"
   ]
  }
 ],
 "metadata": {
  "kernelspec": {
   "display_name": "Python 3",
   "language": "python",
   "name": "python3"
  },
  "language_info": {
   "codemirror_mode": {
    "name": "ipython",
    "version": 3
   },
   "file_extension": ".py",
   "mimetype": "text/x-python",
   "name": "python",
   "nbconvert_exporter": "python",
   "pygments_lexer": "ipython3",
   "version": "3.7.9"
  }
 },
 "nbformat": 4,
 "nbformat_minor": 4
}
