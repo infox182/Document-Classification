{
 "cells": [
  {
   "cell_type": "markdown",
   "metadata": {},
   "source": [
    "## Часть 1\n",
    "Напишите скрипт, который скачивает все данные с выборов губернатора СПб 2019г для всех избирательных участков. \n",
    "\n",
    "Входная точка [по ссылке](http://notelections.online/region/region/st-petersburg?action=show&root=1&tvd=27820001217417&vrn=27820001217413&region=78&global=&sub_region=78&prver=0&pronetvd=null&vibid=27820001217417&type=222). Затем нужно перейти на сайты территориальных избирательных комиссий. Результаты нужно сохранить в  `cvs`-файл, `sqlite` базе данных или `parquet`-файле. В итоге должна получиться таблица с полями:\n",
    "- название ТИК (территориальная избирательная комиссия, некоторое объединение избирательных участков на определенной территории)\n",
    "- номер УИК (избирательный участок)\n",
    "- 14 стандартных полей из итогового протокола\n",
    "\n",
    "Скрипт должен быть в отдельном `*.py` файле или в отдельном `jupyter`-ноутбуке. "
   ]
  },
  {
   "cell_type": "code",
   "execution_count": 1,
   "metadata": {},
   "outputs": [],
   "source": [
    "import lxml.html\n",
    "import requests\n",
    "from bs4 import BeautifulSoup\n",
    "import csv\n",
    "import os\n",
    "import re\n",
    "import pandas as pd\n",
    "\n",
    "URL = 'http://notelections.online/region/region/st-petersburg?action=show&root=1&tvd=27820001217417&vrn=27820001217413&region=78&global=&sub_region=78&prver=0&pronetvd=null&vibid=27820001217417&type=222'\n",
    "HOST = 'http://notelections.online'\n",
    "\n",
    "def get_html(url):\n",
    "    r = requests.get(url)\n",
    "    return r\n",
    "\n",
    "html = get_html(URL)\n",
    "soup = BeautifulSoup(html.text, 'html.parser')\n",
    "links_in_html = soup.find_all('a', href=True)\n",
    "good_links = []\n",
    "\n",
    "for link in links_in_html:\n",
    "    if link['href'].startswith('/region/region/st-petersburg') and link['href'].endswith('222'):\n",
    "        good_links.append(HOST + link['href'])\n",
    "del(links_in_html)\n",
    "\n",
    "def parse(html,n_tik):    \n",
    "    def extract_values(row):\n",
    "        values = []\n",
    "        row_values = row.find_all('td')\n",
    "        for row_value in row_values:\n",
    "            values.append(int(re.findall(r'\\d+',row_value.text)[0]))\n",
    "        return values\n",
    "    \n",
    "    soup = BeautifulSoup(html.text, 'html.parser')\n",
    "    table = soup.find_all('table')[-1]\n",
    "    rows = table.find_all('tr')\n",
    "    clear_rows = []\n",
    "    for i,row in enumerate(rows):\n",
    "        if i == 12:\n",
    "            continue\n",
    "        clear_rows.append(extract_values(row))\n",
    "    data_tik = pd.DataFrame(data=clear_rows).transpose()\n",
    "    data_tik['tik'] = [n_tik + 1 for _ in range (len(clear_rows[0]))]\n",
    "    data_tik['uik'] = [clear_rows[0][i] for i in range(len(clear_rows[0]))]\n",
    "    data_tik = data_tik[['tik','uik',1,2,3,4,5,6,7,8,9,10,11,12,13,14]]\n",
    "    return data_tik\n",
    "\n",
    "list_data_tik = []\n",
    "for n_tik, link in enumerate(good_links):\n",
    "    html_tik = get_html(link)\n",
    "    list_data_tik.append(parse(html_tik,n_tik))\n",
    "\n",
    "data = pd.concat(list_data_tik,axis=0)"
   ]
  },
  {
   "cell_type": "markdown",
   "metadata": {},
   "source": [
    "### Часть 2\n",
    "Используя скаченные данные и `Pandas` (или `PySpark`) посчитайте:\n",
    "- явку (%) по всем ТИК, результат отсортировать по убыванию\n",
    "- выберите произвольного кандидата и найдите тот избиратльный участок, на котором он получил наибольший результат  (%, учитывать участки на которых проголосовало больше 100 человек)\n",
    "- найдите ТИК, где разница между УИК с наибольшей явкой и наименьшей максимальна\n",
    "- посчитайте дисперсию по явке для каждого ТИК (учитывать УИК)\n",
    "- для каждого кандидата посчитайте таблицу: результат (%, округленный до целого) - количество УИК, на которых кандидат получил данный результат\n",
    "- визуализируйте отношение - явка на УИК $\\rightarrow$ результат кандидата. "
   ]
  },
  {
   "cell_type": "code",
   "execution_count": 2,
   "metadata": {},
   "outputs": [],
   "source": [
    "import numpy as np"
   ]
  },
  {
   "cell_type": "code",
   "execution_count": 3,
   "metadata": {},
   "outputs": [],
   "source": [
    "df = data\n",
    "del(data)\n",
    "df.index = [i for i in range(0,2021)]\n",
    "df = df.rename(columns={12: 'Amo', 13: 'Beg',14:'Tih'})"
   ]
  },
  {
   "cell_type": "code",
   "execution_count": 62,
   "metadata": {},
   "outputs": [
    {
     "name": "stdout",
     "output_type": "stream",
     "text": [
      "явка: 51.53 % ТИК: 18\n",
      "явка: 40.01 % ТИК: 15\n",
      "явка: 39.67 % ТИК: 13\n",
      "явка: 37.81 % ТИК: 19\n",
      "явка: 36.04 % ТИК: 8\n",
      "явка: 33.78 % ТИК: 20\n",
      "явка: 33.52 % ТИК: 9\n",
      "явка: 32.49 % ТИК: 22\n",
      "явка: 32.10 % ТИК: 30\n",
      "явка: 31.79 % ТИК: 2\n",
      "явка: 31.48 % ТИК: 1\n",
      "явка: 30.77 % ТИК: 29\n",
      "явка: 30.52 % ТИК: 10\n",
      "явка: 30.43 % ТИК: 4\n",
      "явка: 29.25 % ТИК: 7\n",
      "явка: 29.14 % ТИК: 21\n",
      "явка: 29.02 % ТИК: 25\n",
      "явка: 28.44 % ТИК: 17\n",
      "явка: 28.19 % ТИК: 23\n",
      "явка: 28.19 % ТИК: 16\n",
      "явка: 27.52 % ТИК: 14\n",
      "явка: 27.22 % ТИК: 28\n",
      "явка: 26.88 % ТИК: 11\n",
      "явка: 26.75 % ТИК: 5\n",
      "явка: 26.65 % ТИК: 24\n",
      "явка: 26.62 % ТИК: 3\n",
      "явка: 26.41 % ТИК: 12\n",
      "явка: 26.26 % ТИК: 26\n",
      "явка: 25.01 % ТИК: 6\n",
      "явка: 24.79 % ТИК: 27\n"
     ]
    }
   ],
   "source": [
    "#1 задание\n",
    "#С 1995 года явка характеризуется процентом избирателей, принявших участие в выборах \n",
    "#(процентом бюллетеней, выданных избирателям).\n",
    "yavka_tik = []\n",
    "for num_tik in range(1,30+1):\n",
    "    yavka_tik.append (((np.sum(df[df['tik'] == num_tik][3])+(np.sum(df[df['tik'] == num_tik][4])))/np.sum((df[df['tik'] == num_tik][1]))*100,num_tik))\n",
    "for tik in sorted(yavka_tik, reverse=True):\n",
    "    print (f'явка: {tik[0]:.2f} % ТИК: {tik[1]}')"
   ]
  },
  {
   "cell_type": "code",
   "execution_count": 24,
   "metadata": {},
   "outputs": [
    {
     "name": "stdout",
     "output_type": "stream",
     "text": [
      "УИК № : 567\n"
     ]
    }
   ],
   "source": [
    "#2 задание\n",
    "n_df = df[(df[3]+df[4])>100]\n",
    "print('УИК № :',df.iloc[(n_df['Amo']/(n_df[9])).idxmax()]['uik'])\n",
    "del(n_df)"
   ]
  },
  {
   "cell_type": "code",
   "execution_count": 51,
   "metadata": {},
   "outputs": [
    {
     "name": "stdout",
     "output_type": "stream",
     "text": [
      "ТИК:  17\n",
      "minim     0.17958\n",
      "maxim     1.00000\n",
      "tik      17.00000\n",
      "Name: 17, dtype: float64\n"
     ]
    }
   ],
   "source": [
    "#3 задание\n",
    "n_df = df.copy()\n",
    "n_df['yavka'] = (df[3]+df[4])/df[1]\n",
    "n_df = n_df.groupby('tik')['yavka'].agg(minim='min',maxim='max')\n",
    "n_df['tik'] = [i for i in range(1,31)]\n",
    "print('ТИК: ',int(n_df.loc[(n_df['maxim']-n_df['minim']).idxmax()]['tik']))\n",
    "print(n_df.loc[(n_df['maxim']-n_df['minim']).idxmax()])"
   ]
  },
  {
   "cell_type": "code",
   "execution_count": 66,
   "metadata": {},
   "outputs": [
    {
     "data": {
      "text/plain": [
       "tik\n",
       "1     0.019318\n",
       "2     0.046018\n",
       "3     0.007414\n",
       "4     0.022281\n",
       "5     0.013662\n",
       "6     0.002066\n",
       "7     0.007111\n",
       "8     0.025984\n",
       "9     0.011893\n",
       "10    0.007409\n",
       "11    0.023945\n",
       "12    0.003322\n",
       "13    0.039350\n",
       "14    0.003073\n",
       "15    0.041609\n",
       "16    0.011347\n",
       "17    0.032932\n",
       "18    0.023069\n",
       "19    0.020470\n",
       "20    0.017357\n",
       "21    0.031019\n",
       "22    0.045004\n",
       "23    0.058670\n",
       "24    0.027113\n",
       "25    0.000918\n",
       "26    0.021985\n",
       "27    0.020633\n",
       "28    0.039207\n",
       "29    0.024439\n",
       "30    0.052078\n",
       "Name: yavka, dtype: float64"
      ]
     },
     "execution_count": 66,
     "metadata": {},
     "output_type": "execute_result"
    }
   ],
   "source": [
    "#4 задание\n",
    "n_df.groupby('tik')['yavka'].var()"
   ]
  },
  {
   "cell_type": "code",
   "execution_count": 127,
   "metadata": {},
   "outputs": [
    {
     "data": {
      "text/plain": [
       "0       1\n",
       "1       3\n",
       "2       5\n",
       "3       4\n",
       "4       9\n",
       "5      12\n",
       "6      20\n",
       "7      31\n",
       "8      33\n",
       "9      59\n",
       "10     70\n",
       "11     79\n",
       "12    106\n",
       "13    112\n",
       "14    129\n",
       "15    130\n",
       "16    148\n",
       "17    148\n",
       "18    150\n",
       "19    124\n",
       "20    103\n",
       "21     87\n",
       "22     80\n",
       "23     73\n",
       "24     47\n",
       "25     55\n",
       "26     43\n",
       "27     39\n",
       "28     36\n",
       "29     22\n",
       "30     15\n",
       "31     21\n",
       "32      9\n",
       "33      6\n",
       "34      4\n",
       "35      2\n",
       "36      2\n",
       "37      3\n",
       "44      1\n",
       "dtype: int64"
      ]
     },
     "execution_count": 127,
     "metadata": {},
     "output_type": "execute_result"
    }
   ],
   "source": [
    "#5 задание\n",
    "from math import ceil\n",
    "(df['Amo']/df[9]*100).apply(ceil).value_counts(sort=False)"
   ]
  },
  {
   "cell_type": "code",
   "execution_count": 149,
   "metadata": {},
   "outputs": [
    {
     "data": {
      "text/plain": [
       "Text(0, 0.5, 'Результат Амосова %')"
      ]
     },
     "execution_count": 149,
     "metadata": {},
     "output_type": "execute_result"
    },
    {
     "data": {
      "image/png": "[encoded data removed]",
      "text/plain": [
       "<Figure size 432x288 with 1 Axes>"
      ]
     },
     "metadata": {
      "needs_background": "light"
     },
     "output_type": "display_data"
    }
   ],
   "source": [
    "#6 задание\n",
    "n_df = df.copy()\n",
    "n_df['yavka'] = (df[3]+df[4])/df[1]*100\n",
    "n_df['res_Amo'] = (df['Amo']/df[9]*100).apply(ceil)\n",
    "\n",
    "ax = n_df.plot(x='yavka',y='res_Amo',kind='scatter')\n",
    "ax.set_xlabel('Явка %')\n",
    "ax.set_ylabel('Результат Амосова %')"
   ]
  },
  {
   "cell_type": "code",
   "execution_count": null,
   "metadata": {},
   "outputs": [],
   "source": []
  }
 ],
 "metadata": {
  "kernelspec": {
   "display_name": "Python 3",
   "language": "python",
   "name": "python3"
  },
  "language_info": {
   "codemirror_mode": {
    "name": "ipython",
    "version": 3
   },
   "file_extension": ".py",
   "mimetype": "text/x-python",
   "name": "python",
   "nbconvert_exporter": "python",
   "pygments_lexer": "ipython3",
   "version": "3.7.9"
  }
 },
 "nbformat": 4,
 "nbformat_minor": 4
}
